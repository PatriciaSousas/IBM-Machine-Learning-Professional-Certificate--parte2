{
 "cells": [
  {
   "cell_type": "markdown",
   "id": "3285e7c8",
   "metadata": {},
   "source": [
    "# Libs"
   ]
  },
  {
   "cell_type": "code",
   "execution_count": 2,
   "id": "2d2b5d51",
   "metadata": {},
   "outputs": [],
   "source": [
    "import numpy as np\n",
    "import pandas as pd\n",
    "import matplotlib.pyplot as plt\n",
    "%matplotlib inline\n",
    "def warn(*args, **kwargs):\n",
    "    pass\n",
    "import warnings\n",
    "warnings.warn = warn"
   ]
  },
  {
   "cell_type": "markdown",
   "id": "de6b820b",
   "metadata": {},
   "source": [
    "### Exercício:\n",
    "\n",
    "A transformação de raiz quadrada é outra transformação que pode transformar dados não distribuídos normalmente em dados distribuídos normalmente:"
   ]
  },
  {
   "cell_type": "code",
   "execution_count": 3,
   "id": "12707a8d",
   "metadata": {
    "collapsed": true
   },
   "outputs": [
    {
     "ename": "NameError",
     "evalue": "name 'plot_square_normal_data' is not defined",
     "output_type": "error",
     "traceback": [
      "\u001b[1;31m---------------------------------------------------------------------------\u001b[0m",
      "\u001b[1;31mNameError\u001b[0m                                 Traceback (most recent call last)",
      "Input \u001b[1;32mIn [3]\u001b[0m, in \u001b[0;36m<cell line: 1>\u001b[1;34m()\u001b[0m\n\u001b[1;32m----> 1\u001b[0m data \u001b[38;5;241m=\u001b[39m \u001b[43mplot_square_normal_data\u001b[49m()\n",
      "\u001b[1;31mNameError\u001b[0m: name 'plot_square_normal_data' is not defined"
     ]
    }
   ],
   "source": [
    "data = plot_square_normal_data()"
   ]
  },
  {
   "cell_type": "markdown",
   "id": "9850d9cd",
   "metadata": {},
   "source": [
    "\n",
    "Ligeiramente inclinado para a direita."
   ]
  },
  {
   "cell_type": "code",
   "execution_count": null,
   "id": "bd14801b",
   "metadata": {},
   "outputs": [],
   "source": [
    "plt.hist(np.sqrt(data));"
   ]
  },
  {
   "cell_type": "markdown",
   "id": "fc0c7f17",
   "metadata": {},
   "source": [
    "Aplique a transformação de raiz quadrada ao destino de dados de Boston e teste se o resultado é normalmente distribuído."
   ]
  },
  {
   "cell_type": "code",
   "execution_count": null,
   "id": "349d4e17",
   "metadata": {},
   "outputs": [],
   "source": []
  },
  {
   "cell_type": "markdown",
   "id": "cdad7b97",
   "metadata": {},
   "source": [
    "\n",
    "### Caixa cox"
   ]
  },
  {
   "cell_type": "markdown",
   "id": "8bad1f91",
   "metadata": {},
   "source": [
    "A transformação box cox é uma transformação parametrizada que tenta obter distribuições \"o mais próximo possível de uma distribuição normal\".\n",
    "\n",
    "É definido como:\n",
    "\n",
    "$$ \\text{boxcox}(y_i) = \\frac{y_i^{\\lambda} - 1}{\\lambda} $$\n",
    "\n",
    "Você pode pensar nisso como uma generalização da função de raiz quadrada: a função de raiz quadrada usa o expoente de 0,5, mas o box cox permite que seu expoente varie para encontrar o melhor"
   ]
  },
  {
   "cell_type": "code",
   "execution_count": null,
   "id": "429faba3",
   "metadata": {},
   "outputs": [],
   "source": [
    "from scipy.stats import boxcox"
   ]
  },
  {
   "cell_type": "code",
   "execution_count": null,
   "id": "b835f257",
   "metadata": {},
   "outputs": [],
   "source": [
    "bc_result = boxcox(boston_data.MEDV)\n",
    "boxcox_medv = bc_result[0]\n",
    "lam = bc_result[1]"
   ]
  },
  {
   "cell_type": "code",
   "execution_count": null,
   "id": "1dffdbd1",
   "metadata": {},
   "outputs": [],
   "source": [
    "lam"
   ]
  },
  {
   "cell_type": "code",
   "execution_count": null,
   "id": "99a09e00",
   "metadata": {},
   "outputs": [],
   "source": [
    "boston_data['MEDV'].hist();"
   ]
  },
  {
   "cell_type": "code",
   "execution_count": null,
   "id": "3cd5c32f",
   "metadata": {},
   "outputs": [],
   "source": [
    "plt.hist(boxcox_medv);"
   ]
  },
  {
   "cell_type": "code",
   "execution_count": null,
   "id": "be3c2001",
   "metadata": {},
   "outputs": [],
   "source": [
    "normaltest(boxcox_medv)"
   ]
  },
  {
   "cell_type": "markdown",
   "id": "314d82fa",
   "metadata": {},
   "source": [
    "Significativamente mais distribuído normalmente (de acordo com o valor de p) do que as outras duas distribuições - acima de 0,05, mesmo!\n",
    "\n",
    "Agora que temos uma variável y normalmente distribuída, vamos tentar uma regressão!"
   ]
  },
  {
   "cell_type": "code",
   "execution_count": null,
   "id": "09ef71b3",
   "metadata": {},
   "outputs": [],
   "source": []
  },
  {
   "cell_type": "markdown",
   "id": "20de0fd1",
   "metadata": {},
   "source": [
    "\n",
    "### Testando a regressão:"
   ]
  },
  {
   "cell_type": "code",
   "execution_count": null,
   "id": "0c31a042",
   "metadata": {},
   "outputs": [],
   "source": [
    "from sklearn.linear_model import LinearRegression\n",
    "from sklearn.metrics import r2_score\n",
    "from sklearn.model_selection import train_test_split\n",
    "from sklearn.preprocessing import (StandardScaler, \n",
    "                                   PolynomialFeatures)"
   ]
  },
  {
   "cell_type": "code",
   "execution_count": null,
   "id": "e0f744a6",
   "metadata": {},
   "outputs": [],
   "source": [
    "lr = LinearRegression()"
   ]
  },
  {
   "cell_type": "markdown",
   "id": "33a77af5",
   "metadata": {},
   "source": [
    "\n",
    "**Recarregue a versão limpa de `boston_data`:**"
   ]
  },
  {
   "cell_type": "code",
   "execution_count": null,
   "id": "5f8fa282",
   "metadata": {},
   "outputs": [],
   "source": [
    "boston_data = boston_dataframe()"
   ]
  },
  {
   "cell_type": "markdown",
   "id": "194c8b7d",
   "metadata": {},
   "source": [
    "**Criar X e y**"
   ]
  },
  {
   "cell_type": "code",
   "execution_count": null,
   "id": "66f2b4f9",
   "metadata": {},
   "outputs": [],
   "source": [
    "y_col = \"MEDV\"\n",
    "\n",
    "X = boston_data.drop(y_col, axis=1)\n",
    "y = boston_data[y_col]"
   ]
  },
  {
   "cell_type": "markdown",
   "id": "ad54e630",
   "metadata": {},
   "source": [
    "**Criar recursos polinomiais**"
   ]
  },
  {
   "cell_type": "code",
   "execution_count": null,
   "id": "95b236ba",
   "metadata": {},
   "outputs": [],
   "source": [
    "pf = PolynomialFeatures(degree=2, include_bias=False)\n",
    "X_pf = pf.fit_transform(X)"
   ]
  },
  {
   "cell_type": "markdown",
   "id": "4ed10937",
   "metadata": {},
   "source": [
    "**Treine a divisão do teste**"
   ]
  },
  {
   "cell_type": "code",
   "execution_count": null,
   "id": "3f132200",
   "metadata": {},
   "outputs": [],
   "source": [
    "X_train, X_test, y_train, y_test = train_test_split(X_pf, y, test_size=0.3, \n",
    "                                                    random_state=72018)"
   ]
  },
  {
   "cell_type": "markdown",
   "id": "b92605f9",
   "metadata": {},
   "source": [
    "\n",
    "**Ajuste `StandardScaler` em `X_train` como antes**"
   ]
  },
  {
   "cell_type": "code",
   "execution_count": null,
   "id": "aede41cc",
   "metadata": {},
   "outputs": [],
   "source": [
    "s = StandardScaler()\n",
    "X_train_s = s.fit_transform(X_train)"
   ]
  },
  {
   "cell_type": "markdown",
   "id": "bac129a3",
   "metadata": {},
   "source": [
    "Como antes, vamos agora:\n",
    "\n",
    "1. Regressão de ajuste\n",
    "1. Transformar dados de teste\n",
    "1. Preveja em dados de teste"
   ]
  },
  {
   "cell_type": "code",
   "execution_count": null,
   "id": "19d08f56",
   "metadata": {},
   "outputs": [],
   "source": [
    "y_train_bc.shape"
   ]
  },
  {
   "cell_type": "code",
   "execution_count": null,
   "id": "1cd9d9c5",
   "metadata": {},
   "outputs": [],
   "source": [
    "lr.fit(X_train_s, y_train_bc)\n",
    "X_test_s = s.transform(X_test)\n",
    "y_pred_bc = lr.predict(X_test_s)"
   ]
  },
  {
   "cell_type": "markdown",
   "id": "8e74a583",
   "metadata": {},
   "source": [
    "#### Inverse transform"
   ]
  },
  {
   "cell_type": "markdown",
   "id": "2fc2091e",
   "metadata": {},
   "source": [
    "Toda transformação tem uma transformação inversa. A transformação inversa de $f(x) = \\sqrt{x}$ é $f^{-1}(x) = x^2$, por exemplo. Box cox também tem uma transformação inversa: observe que temos que passar o valor lambda que encontramos antes:"
   ]
  },
  {
   "cell_type": "code",
   "execution_count": null,
   "id": "bc45e4a2",
   "metadata": {},
   "outputs": [],
   "source": [
    "from scipy.special import inv_boxcox"
   ]
  },
  {
   "cell_type": "code",
   "execution_count": null,
   "id": "91a9bd68",
   "metadata": {},
   "outputs": [],
   "source": [
    "bc_result = boxcox(boston_data.MEDV)\n",
    "boxcox_medv = bc_result[0]\n",
    "lam = bc_result[1]"
   ]
  },
  {
   "cell_type": "code",
   "execution_count": null,
   "id": "3513a8aa",
   "metadata": {},
   "outputs": [],
   "source": [
    "inv_boxcox(boxcox_medv, lam)[:10]"
   ]
  },
  {
   "cell_type": "code",
   "execution_count": null,
   "id": "7a25fdd4",
   "metadata": {},
   "outputs": [],
   "source": [
    "boston_data['MEDV'].values[:10]"
   ]
  },
  {
   "cell_type": "markdown",
   "id": "f8bb51ae",
   "metadata": {},
   "source": [
    "### Exercício:\n",
    "\n",
    "1. Aplique a transformação inversa apropriada para `y_pred_bc`.\n",
    "2. Calcule o $R^2$ usando o resultado desta transformação inversa e `y_test`.\n",
    "\n",
    "**Dica:** deve ter duas linhas de código.\n"
   ]
  },
  {
   "cell_type": "code",
   "execution_count": null,
   "id": "86893c0f",
   "metadata": {},
   "outputs": [],
   "source": [
    "# Solução do instrutor\n",
    "y_pred_tran = inv_boxcox(y_pred_bc,lam2)\n",
    "r2_score(y_pred_tran,y_test)"
   ]
  },
  {
   "cell_type": "markdown",
   "id": "ab28d675",
   "metadata": {},
   "source": [
    "## Exercício LAB:\n",
    "\n",
    "### Determine o R^2 de uma LinearRegression sem a transformação box cox. É mais alto ou mais baixo?"
   ]
  },
  {
   "cell_type": "code",
   "execution_count": 5,
   "id": "d08fab6c",
   "metadata": {
    "collapsed": true
   },
   "outputs": [
    {
     "ename": "NameError",
     "evalue": "name 'LinearRegression' is not defined",
     "output_type": "error",
     "traceback": [
      "\u001b[1;31m---------------------------------------------------------------------------\u001b[0m",
      "\u001b[1;31mNameError\u001b[0m                                 Traceback (most recent call last)",
      "Input \u001b[1;32mIn [5]\u001b[0m, in \u001b[0;36m<cell line: 2>\u001b[1;34m()\u001b[0m\n\u001b[0;32m      1\u001b[0m \u001b[38;5;66;03m### COMEÇAR A SOLUÇÃO\u001b[39;00m\n\u001b[1;32m----> 2\u001b[0m lr \u001b[38;5;241m=\u001b[39m \u001b[43mLinearRegression\u001b[49m()\n\u001b[0;32m      3\u001b[0m lr\u001b[38;5;241m.\u001b[39mfit(X_train_s,y_train)\n\u001b[0;32m      4\u001b[0m lr_pred \u001b[38;5;241m=\u001b[39m lr\u001b[38;5;241m.\u001b[39mpredict(X_test_s)\n",
      "\u001b[1;31mNameError\u001b[0m: name 'LinearRegression' is not defined"
     ]
    }
   ],
   "source": [
    "### COMEÇAR A SOLUÇÃO\n",
    "lr = LinearRegression()\n",
    "lr.fit(X_train_s,y_train)\n",
    "lr_pred = lr.predict(X_test_s)\n",
    "r2_score(lr_pred,y_test)\n",
    "### SOLUÇÃO FINAL"
   ]
  }
 ],
 "metadata": {
  "kernelspec": {
   "display_name": "Python 3 (ipykernel)",
   "language": "python",
   "name": "python3"
  },
  "language_info": {
   "codemirror_mode": {
    "name": "ipython",
    "version": 3
   },
   "file_extension": ".py",
   "mimetype": "text/x-python",
   "name": "python",
   "nbconvert_exporter": "python",
   "pygments_lexer": "ipython3",
   "version": "3.9.12"
  }
 },
 "nbformat": 4,
 "nbformat_minor": 5
}
