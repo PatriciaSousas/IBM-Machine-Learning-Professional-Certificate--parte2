{
 "cells": [
  {
   "cell_type": "markdown",
   "id": "d5a3e551",
   "metadata": {},
   "source": [
    "## Introdução\n",
    "\n",
    "Começaremos com um breve tutorial sobre regressão, recursos polinomiais e regularização com base em um conjunto de dados muito simples e esparso que contém uma coluna de dados 'x' e dados ruidosos associados a 'y'. O arquivo de dados é chamado de 'X_Y_Sinusoid_Data.csv'."
   ]
  },
  {
   "cell_type": "markdown",
   "id": "72102fbc",
   "metadata": {},
   "source": [
    "## Questão 1\n",
    "\n",
    "* Importar os dados.\n",
    "\n",
    "* Também gere aproximadamente 100 pontos de dados x igualmente espaçados no intervalo de 0 a 1. Usando esses pontos, calcule os dados y que representam a \"verdade básica\" (a função real) da equação: $y = sin(2\\ pix)$\n",
    "\n",
    "* Plote os dados esparsos (`x` vs `y`) e os dados calculados (\"reais\")."
   ]
  },
  {
   "cell_type": "code",
   "execution_count": null,
   "id": "b708da5c",
   "metadata": {},
   "outputs": [],
   "source": [
    "def warn(*args, **kwargs):\n",
    "    pass\n",
    "import warnings\n",
    "warnings.warn = warn"
   ]
  },
  {
   "cell_type": "code",
   "execution_count": null,
   "id": "c9a76c39",
   "metadata": {},
   "outputs": [],
   "source": [
    "import pandas as pd\n",
    "import numpy as np\n",
    "\n",
    "\n",
    "data = pd.read_csv(\"https://cf-courses-data.s3.us.cloud-object-storage.appdomain.cloud/IBM-ML240EN-SkillsNetwork/labs/data/X_Y_Sinusoid_Data.csv\")\n",
    "data.head()\n",
    "\n",
    "X_real = np.linspace(0, 1.0, 100)\n",
    "Y_real = np.sin(2 * np.pi * X_real)"
   ]
  },
  {
   "cell_type": "code",
   "execution_count": null,
   "id": "f31bf1e9",
   "metadata": {},
   "outputs": [],
   "source": [
    "import matplotlib.pyplot as plt\n",
    "import seaborn as sns\n",
    "\n",
    "%matplotlib inline"
   ]
  },
  {
   "cell_type": "code",
   "execution_count": null,
   "id": "48e76f9f",
   "metadata": {},
   "outputs": [],
   "source": [
    "sns.set_style('white')\n",
    "sns.set_context('talk')\n",
    "sns.set_palette('dark')\n",
    "\n",
    "# Plot of the noisy (sparse)\n",
    "ax = data.set_index('x')['y'].plot(ls='', marker='o', label='data')\n",
    "ax.plot(X_real, Y_real, ls='--', marker='', label='real function')\n",
    "\n",
    "ax.legend()\n",
    "ax.set(xlabel='x data', ylabel='y data');\n"
   ]
  },
  {
   "cell_type": "markdown",
   "id": "cda54395",
   "metadata": {},
   "source": [
    "## Questão 2\n",
    "\n",
    "* Usando a classe `PolynomialFeatures` da biblioteca de pré-processamento do Scikit-learn, crie recursos polinomiais de 20ª ordem.\n",
    "* Ajuste esses dados usando regressão linear.\n",
    "* Plote o valor previsto resultante em comparação com os dados calculados.\n",
    "\n",
    "Observe que `PolynomialFeatures` requer um dataframe (com uma coluna, não uma série) ou uma matriz 2D de dimensão (`X`, 1), onde `X` é o comprimento."
   ]
  },
  {
   "cell_type": "code",
   "execution_count": null,
   "id": "3b1aef3f",
   "metadata": {},
   "outputs": [],
   "source": [
    "from sklearn.preprocessing import PolynomialFeatures\n",
    "from sklearn.linear_model import LinearRegression\n",
    "\n",
    "# Configurei os recursos polinomiais\n",
    "degree = 20\n",
    "pf = PolynomialFeatures(degree)\n",
    "lr = LinearRegression()\n",
    "\n",
    "# Extrai os dados X e Y do dataframe\n",
    "X_data = data[['x']]\n",
    "Y_data = data['y']\n",
    "\n",
    "# Criei os recursos e ajuste o modelo\n",
    "X_poly = pf.fit_transform(X_data)\n",
    "lr = lr.fit(X_poly, Y_data)\n",
    "Y_pred = lr.predict(X_poly)\n",
    "\n",
    "# plotei os resultados \n",
    "plt.plot(X_data, Y_data, marker='o', ls='', label='data', alpha=1)\n",
    "plt.plot(X_real, Y_real, ls='--', label='real function')\n",
    "plt.plot(X_data, Y_pred, marker='^', alpha=.5, label='predictions w/ polynomial features')\n",
    "plt.legend()\n",
    "ax = plt.gca()\n",
    "ax.set(xlabel='x data', ylabel='y data');\n"
   ]
  },
  {
   "cell_type": "markdown",
   "id": "9259f740",
   "metadata": {},
   "source": [
    "## Questão 3\n",
    "\n",
    "* Execute a regressão usando os dados com características polinomiais usando regressão ridge ($\\alpha$=0.001) e regressão lasso ($\\alpha$=0.0001).\n",
    "* Plote os resultados, como foi feito na Questão 1.\n",
    "* Trace também a magnitude dos coeficientes obtidos nessas regressões e compare-os com os obtidos na regressão linear da questão anterior. Os coeficientes de regressão linear provavelmente precisarão de um gráfico separado (ou de seu próprio eixo y) devido à sua grande magnitude.\n",
    "\n",
    "O que a magnitude comparativamente grande dos dados diz sobre o papel da regularização?"
   ]
  },
  {
   "cell_type": "code",
   "execution_count": null,
   "id": "638fc4c4",
   "metadata": {},
   "outputs": [],
   "source": [
    "# silenciei os avisos sobre a execucao do treinamento\n",
    "import warnings\n",
    "warnings.filterwarnings('ignore', module='sklearn')\n",
    "\n",
    "from sklearn.linear_model import Ridge, Lasso\n",
    "\n",
    "# O modelo de regressão do cume\n",
    "\n",
    "rr = Ridge(alpha=0.001)\n",
    "rr = rr.fit(X_poly, Y_data)\n",
    "Y_pred_rr = rr.predict(X_poly)\n",
    "\n",
    "# O modelo de regressão laço\n",
    "lassor = Lasso(alpha=0.0001)\n",
    "lassor = lassor.fit(X_poly, Y_data)\n",
    "Y_pred_lr = lassor.predict(X_poly)\n",
    "\n",
    "# O gráfico dos valores previstos\n",
    "plt.plot(X_data, Y_data, marker='o', ls='', label='data')\n",
    "plt.plot(X_real, Y_real, ls='--', label='real function')\n",
    "plt.plot(X_data, Y_pred, label='linear regression', marker='^', alpha=.5)\n",
    "plt.plot(X_data, Y_pred_rr, label='ridge regression', marker='^', alpha=.5)\n",
    "plt.plot(X_data, Y_pred_lr, label='lasso regression', marker='^', alpha=.5)\n",
    "\n",
    "plt.legend()\n",
    "\n",
    "ax = plt.gca()\n",
    "ax.set(xlabel='x data', ylabel='y data');"
   ]
  },
  {
   "cell_type": "code",
   "execution_count": null,
   "id": "0074a00b",
   "metadata": {},
   "outputs": [],
   "source": [
    "# valor absoluto dos coeficientes para cada modelo\n",
    "\n",
    "coefficients = pd.DataFrame()\n",
    "coefficients['linear regression'] = lr.coef_.ravel()\n",
    "coefficients['ridge regression'] = rr.coef_.ravel()\n",
    "coefficients['lasso regression'] = lassor.coef_.ravel()\n",
    "coefficients = coefficients.applymap(abs)\n",
    "\n",
    "coefficients.describe()  #diferença na escala entre regressão não regularizada versus regularizada"
   ]
  },
  {
   "cell_type": "code",
   "execution_count": null,
   "id": "0abbcc10",
   "metadata": {},
   "outputs": [],
   "source": [
    "colors = sns.color_palette()\n",
    "\n",
    "# Configurei os eixos y duplos\n",
    "ax1 = plt.axes()\n",
    "ax2 = ax1.twinx()\n",
    "\n",
    "# Plotei os dados de regressão linear\n",
    "ax1.plot(lr.coef_.ravel(), \n",
    "         color=colors[0], marker='o', label='linear regression')\n",
    "\n",
    "# Plotei os conjuntos de dados de regularização\n",
    "ax2.plot(rr.coef_.ravel(), \n",
    "         color=colors[1], marker='o', label='ridge regression')\n",
    "\n",
    "ax2.plot(lassor.coef_.ravel(), \n",
    "         color=colors[2], marker='o', label='lasso regression')\n",
    "\n",
    "# Personalizei escalas de eixos\n",
    "ax1.set_ylim(-2e14, 2e14)\n",
    "ax2.set_ylim(-25, 25)\n",
    "\n",
    "# combinei as legendas\n",
    "h1, l1 = ax1.get_legend_handles_labels()\n",
    "h2, l2 = ax2.get_legend_handles_labels()\n",
    "ax1.legend(h1+h2, l1+l2)\n",
    "\n",
    "ax1.set(xlabel='coefficients',ylabel='linear regression')\n",
    "ax2.set(ylabel='ridge and lasso regression')\n",
    "\n",
    "ax1.set_xticks(range(len(lr.coef_)));"
   ]
  },
  {
   "cell_type": "code",
   "execution_count": null,
   "id": "5a605e47",
   "metadata": {},
   "outputs": [],
   "source": []
  },
  {
   "cell_type": "code",
   "execution_count": null,
   "id": "453488f1",
   "metadata": {},
   "outputs": [],
   "source": []
  }
 ],
 "metadata": {
  "kernelspec": {
   "display_name": "Python 3 (ipykernel)",
   "language": "python",
   "name": "python3"
  },
  "language_info": {
   "codemirror_mode": {
    "name": "ipython",
    "version": 3
   },
   "file_extension": ".py",
   "mimetype": "text/x-python",
   "name": "python",
   "nbconvert_exporter": "python",
   "pygments_lexer": "ipython3",
   "version": "3.9.12"
  }
 },
 "nbformat": 4,
 "nbformat_minor": 5
}
